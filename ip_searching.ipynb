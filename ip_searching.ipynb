{
 "cells": [
  {
   "cell_type": "code",
   "execution_count": 1,
   "metadata": {
    "scrolled": true
   },
   "outputs": [
    {
     "name": "stdout",
     "output_type": "stream",
     "text": [
      "本次需更改的网卡名称：('No matching IP was found', 'NULL')\n"
     ]
    }
   ],
   "source": [
    "import netifaces\n",
    "# from netifaces import interfaces\n",
    "import pprint\n",
    "import re\n",
    "import winreg as wr\n",
    "\n",
    "# pp = pprint.PrettyPrinter(indent=4)\n",
    "# pp.pprint(netifaces.interfaces())\n",
    "\n",
    "#判断ip是否为“10”开头\n",
    "pattern = r'^10'\n",
    "\n",
    "#定义获取Windows系统中为“10”开头的网卡名及其ip\n",
    "def get_name_AND_ip():\n",
    "    \n",
    "    #获取所有网络接口卡的键值\n",
    "    id = netifaces.interfaces()\n",
    "    #存放网卡键值与键值名称的字典\n",
    "    key_name = {}\n",
    "    \n",
    "    try:\n",
    "        #建立链接注册表，\"HKEY_LOCAL_MACHINE\"，None表示本地计算机\n",
    "        reg = wr.ConnectRegistry(None,wr.HKEY_LOCAL_MACHINE)\n",
    "        # 打开r'SYSTEM\\CurrentControlSet\\Control\\Network\\{4d36e972-e325-11ce-bfc1-08002be10318}'，固定的\n",
    "        reg_key = wr.OpenKey(reg , r'SYSTEM\\CurrentControlSet\\Control\\Network\\{4d36e972-e325-11ce-bfc1-08002be10318}')\n",
    "    except :\n",
    "        return ('路径出错或者其他问题，请仔细检查')\n",
    "\n",
    "\n",
    "    for i in id:\n",
    "        try:\n",
    "            #尝试读取每一个网卡键值下对应的Name\n",
    "            reg_subkey = wr.OpenKey(reg_key , i + r'\\Connection')\n",
    "            #如果存在Name，写入key_name字典\n",
    "            key_name[wr.QueryValueEx(reg_subkey , 'Name')[0]] = i\n",
    "            # print(wr.QueryValueEx(reg_subkey , 'Name')[0])\n",
    "        except FileNotFoundError:\n",
    "            pass\n",
    "    # print('所有接口信息字典列表： ' + str(key_name) + '\\n')\n",
    "    \n",
    "      #输出系统所有网卡键值及其网卡名\n",
    "#     for name, key in key_name.items():\n",
    "#         print(name)\n",
    "#         try:\n",
    "#             pp.pprint(netifaces.ifaddresses(key)[netifaces.AF_INET][0]['addr'])\n",
    "#         except KeyError:\n",
    "#             print(\"NULL\")\n",
    "#             pass\n",
    "#         print(\"---------------------------------\")\n",
    "\n",
    "    #输出系统“10”开头ip及其对应网卡名\n",
    "    for name, key in key_name.items(): \n",
    "        try:\n",
    "            ip = netifaces.ifaddresses(key)[netifaces.AF_INET][0]['addr']\n",
    "            if re.search(pattern, ip):\n",
    "                break\n",
    "            else:\n",
    "                name = 'No matching IP was found'\n",
    "                ip = 'NULL'         \n",
    "        except KeyError:\n",
    "            ip = 'NULL'\n",
    "            pass  \n",
    "        \n",
    "    \n",
    "    #将找到的网卡名及其ip输出到对应位置    \n",
    "    data =[[name],[ip]]\n",
    "    with open(\"data.txt\",\"w\") as f:                                                 #设置文件对象\n",
    "        for i in data:                                                                 #对于双层列表中的数据\n",
    "            i = str(i).strip('[').strip(']').replace(',','').replace('\\'','')+'\\n'     #将其中每一个列表规范化成字符串\n",
    "            f.write(i)    \n",
    "        f.close()\n",
    "    \n",
    "        \n",
    "        \n",
    "    result = (name, ip)\n",
    "    return result\n",
    "\n",
    "\n",
    "a = get_name_AND_ip()\n",
    "print(f\"本次需更改的网卡名称：{a}\")"
   ]
  }
 ],
 "metadata": {
  "kernelspec": {
   "display_name": "Python 3",
   "language": "python",
   "name": "python3"
  },
  "language_info": {
   "codemirror_mode": {
    "name": "ipython",
    "version": 3
   },
   "file_extension": ".py",
   "mimetype": "text/x-python",
   "name": "python",
   "nbconvert_exporter": "python",
   "pygments_lexer": "ipython3",
   "version": "3.7.4"
  }
 },
 "nbformat": 4,
 "nbformat_minor": 4
}
